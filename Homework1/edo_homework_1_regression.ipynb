{
 "cells": [
  {
   "cell_type": "markdown",
   "metadata": {
    "id": "AgHJFDwYvgHg"
   },
   "source": [
    "# Edoardo Antonaci 1234431"
   ]
  },
  {
   "cell_type": "markdown",
   "metadata": {
    "id": "rZCClsi8vrYi"
   },
   "source": [
    "# Homework1 : regression task"
   ]
  },
  {
   "cell_type": "markdown",
   "metadata": {
    "id": "JpHoPt5nyocz"
   },
   "source": [
    "## Dataset"
   ]
  },
  {
   "cell_type": "code",
   "execution_count": 3,
   "metadata": {
    "id": "3ViQh-gfzxNH"
   },
   "outputs": [],
   "source": [
    "import pandas as pd\n",
    "import matplotlib.pyplot as plt\n",
    "import numpy as np\n",
    "import torch\n",
    "import torch.nn as nn\n",
    "import torch.optim as optim\n",
    "\n",
    "from skorch.callbacks import EarlyStopping\n",
    "from skorch import NeuralNetRegressor\n",
    "from torch.utils.data import Dataset, DataLoader\n",
    "from torchvision import transforms\n",
    "from sklearn.model_selection import train_test_split"
   ]
  },
  {
   "cell_type": "code",
   "execution_count": 4,
   "metadata": {
    "id": "a-FdEP-JxwEu"
   },
   "outputs": [],
   "source": [
    "train_df = pd.read_csv('/content/drive/MyDrive/homework1_regression/train_data.csv')\n",
    "test_df  = pd.read_csv('/content/drive/MyDrive/homework1_regression/test_data.csv')"
   ]
  },
  {
   "cell_type": "code",
   "execution_count": 5,
   "metadata": {
    "colab": {
     "base_uri": "https://localhost:8080/",
     "height": 497
    },
    "id": "EXc_6w24zFEB",
    "outputId": "b183f016-a7b7-4052-eceb-4e5f25b6e116"
   },
   "outputs": [
    {
     "data": {
      "image/png": "[encoded data removed]",
      "text/plain": [
       "<Figure size 864x576 with 1 Axes>"
      ]
     },
     "metadata": {
      "needs_background": "light",
      "tags": []
     },
     "output_type": "display_data"
    }
   ],
   "source": [
    "fig = plt.figure(figsize=(12,8))\n",
    "plt.scatter(train_df.input, train_df.label, label='Training points')\n",
    "plt.xlabel('input')\n",
    "plt.ylabel('label')\n",
    "plt.legend()\n",
    "plt.show()"
   ]
  },
  {
   "cell_type": "code",
   "execution_count": 6,
   "metadata": {
    "id": "dr_zPyIJLC7G"
   },
   "outputs": [],
   "source": [
    "#train_dataset\n",
    "\n",
    "X_train_dataset=train_df.input.values\n",
    "Y_train_dataset=train_df.label.values\n",
    "\n",
    "X_train_dataset=np.expand_dims(X_train_dataset, axis=1)\n",
    "Y_train_dataset=np.expand_dims(Y_train_dataset, axis=1)\n",
    "\n",
    "#test_dataset\n",
    "\n",
    "X_test_dataset=test_df.input.values\n",
    "Y_test_dataset=test_df.label.values\n",
    "\n",
    "X_test_dataset=np.expand_dims(X_test_dataset, axis=1)\n",
    "Y_test_dataset=np.expand_dims(Y_test_dataset, axis=1)\n",
    "\n",
    "#to tensor\n",
    "\n",
    "X_train_dataset=torch.from_numpy(X_train_dataset).float()\n",
    "Y_train_dataset=torch.from_numpy(Y_train_dataset).float()\n",
    "\n",
    "X_test_dataset=torch.from_numpy(X_test_dataset).float()\n",
    "Y_test_dataset=torch.from_numpy(Y_test_dataset).float()\n"
   ]
  },
  {
   "cell_type": "markdown",
   "metadata": {
    "id": "QHERbGfeYDnm"
   },
   "source": [
    "## Forward Neural Network implementation"
   ]
  },
  {
   "cell_type": "code",
   "execution_count": 7,
   "metadata": {
    "id": "sHDDqgrD2nL_"
   },
   "outputs": [],
   "source": [
    "class Reg(nn.Module):\n",
    "    \n",
    "    def __init__(self, Ni, Nh1,Nh2,Nh3,No,init_weight=None):\n",
    "     \n",
    "        \n",
    "        super().__init__()\n",
    "\n",
    "        torch.manual_seed(42)\n",
    "        \n",
    "        print('Network initialized')\n",
    "        self.fc1 = nn.Linear(in_features=Ni, out_features=Nh1)\n",
    "        self.fc2 = nn.Linear(in_features=Nh1, out_features=Nh2)\n",
    "        self.fc3 = nn.Linear(in_features=Nh2, out_features=Nh3)\n",
    "        self.out = nn.Linear(in_features=Nh3, out_features=No)\n",
    "        \n",
    "        \n",
    "        self.act1 = nn.Sigmoid()\n",
    "        self.act2 =nn.ReLU()\n",
    "          \n",
    "        if init_weight==\"S\" :\n",
    "          torch.nn.init.sparse_(self.fc1.weight, sparsity=0.2, std=0.01)\n",
    "          torch.nn.init.sparse_(self.fc2.weight, sparsity=0.2, std=0.01)\n",
    "          torch.nn.init.sparse_(self.fc3.weight, sparsity=0.2, std=0.01)\n",
    "        \n",
    "        if init_weight==\"N\":\n",
    "          torch.nn.init.normal_(self.fc1.weight, mean=0.0, std=1.0)\n",
    "          self.fc1.bias.data.fill_(0.0)\n",
    "          torch.nn.init.normal_(self.fc2.weight, mean=0.0, std=1.0)\n",
    "          self.fc2.bias.data.fill_(0.0)\n",
    "          torch.nn.init.normal_(self.fc3.weight, mean=0.0, std=1.0)\n",
    "          self.fc3.bias.data.fill_(0.0)\n",
    "        \n",
    "\n",
    "\n",
    "    def forward(self, x):\n",
    "        x = self.act2(self.fc1(x))\n",
    "        x = self.act2(self.fc2(x))\n",
    "        x = self.act2(self.fc3(x))\n",
    "        x = self.out(x)\n",
    "        \n",
    "        return x"
   ]
  },
  {
   "cell_type": "code",
   "execution_count": 8,
   "metadata": {
    "colab": {
     "base_uri": "https://localhost:8080/"
    },
    "id": "iAjl_B94TVMM",
    "outputId": "f3cd00e8-198c-40d1-e0fb-a24ee3871952"
   },
   "outputs": [
    {
     "name": "stdout",
     "output_type": "stream",
     "text": [
      "Training device: cuda\n"
     ]
    }
   ],
   "source": [
    "# Check if the GPU is available\n",
    "device = torch.device(\"cuda\") if torch.cuda.is_available() else torch.device(\"cpu\")\n",
    "print(f\"Training device: {device}\")"
   ]
  },
  {
   "cell_type": "code",
   "execution_count": 9,
   "metadata": {
    "id": "X3YawJH34E1E"
   },
   "outputs": [],
   "source": [
    "loss_function=nn.MSELoss()\n",
    "\n",
    "my_early = EarlyStopping(\n",
    "    monitor='valid_loss',\n",
    "    patience=2000,\n",
    "    threshold=0.0001,\n",
    "    threshold_mode='rel',\n",
    "    lower_is_better=True)\n",
    "\n",
    "\n",
    "\n",
    "net = NeuralNetRegressor(\n",
    "    module=Reg,\n",
    "    module__Ni= 1,\n",
    "    module__Nh1 = 100,\n",
    "    module__Nh2 = 120,\n",
    "    module__Nh3 = 100,\n",
    "    module__No = 1,\n",
    "    max_epochs=10000,\n",
    "    \n",
    "    device=device,  \n",
    "    optimizer = optim.Adam,\n",
    "    optimizer__lr=0.0001,\n",
    "    optimizer__eps=1e-08,\n",
    "    optimizer__betas=(0.9, 0.999),\n",
    "    optimizer__weight_decay=0, #L2 norm\n",
    "    optimizer__amsgrad=False,\n",
    "    criterion=nn.MSELoss,  #default\n",
    "    callbacks = [my_early],\n",
    "    verbose=0\n",
    ")"
   ]
  },
  {
   "cell_type": "code",
   "execution_count": 10,
   "metadata": {
    "colab": {
     "base_uri": "https://localhost:8080/"
    },
    "id": "FntbKjcjKter",
    "outputId": "5303fe88-85ad-4225-a8a2-b65de16dcf05",
    "scrolled": true
   },
   "outputs": [
    {
     "name": "stdout",
     "output_type": "stream",
     "text": [
      "Fitting 3 folds for each of 12 candidates, totalling 36 fits\n",
      "[CV] max_epochs=5000, module__Nh1=100, module__Nh2=120, module__Nh3=100, optimizer__lr=0.001, optimizer__weight_decay=0.0001 \n",
      "Network initialized\n"
     ]
    },
    {
     "name": "stderr",
     "output_type": "stream",
     "text": [
      "[Parallel(n_jobs=1)]: Using backend SequentialBackend with 1 concurrent workers.\n"
     ]
    },
    {
     "name": "stdout",
     "output_type": "stream",
     "text": [
      "Network initialized\n",
      "[CV]  max_epochs=5000, module__Nh1=100, module__Nh2=120, module__Nh3=100, optimizer__lr=0.001, optimizer__weight_decay=0.0001, score=-1842.809, total=  31.0s\n",
      "[CV] max_epochs=5000, module__Nh1=100, module__Nh2=120, module__Nh3=100, optimizer__lr=0.001, optimizer__weight_decay=0.0001 \n",
      "Network initialized\n",
      "Network initialized\n"
     ]
    },
    {
     "name": "stderr",
     "output_type": "stream",
     "text": [
      "[Parallel(n_jobs=1)]: Done   1 out of   1 | elapsed:   41.6s remaining:    0.0s\n"
     ]
    },
    {
     "name": "stdout",
     "output_type": "stream",
     "text": [
      "[CV]  max_epochs=5000, module__Nh1=100, module__Nh2=120, module__Nh3=100, optimizer__lr=0.001, optimizer__weight_decay=0.0001, score=-0.592, total= 1.1min\n",
      "[CV] max_epochs=5000, module__Nh1=100, module__Nh2=120, module__Nh3=100, optimizer__lr=0.001, optimizer__weight_decay=0.0001 \n",
      "Network initialized\n",
      "Network initialized\n"
     ]
    },
    {
     "name": "stderr",
     "output_type": "stream",
     "text": [
      "[Parallel(n_jobs=1)]: Done   2 out of   2 | elapsed:  1.8min remaining:    0.0s\n"
     ]
    },
    {
     "name": "stdout",
     "output_type": "stream",
     "text": [
      "[CV]  max_epochs=5000, module__Nh1=100, module__Nh2=120, module__Nh3=100, optimizer__lr=0.001, optimizer__weight_decay=0.0001, score=-3.032, total= 3.2min\n",
      "[CV] max_epochs=5000, module__Nh1=100, module__Nh2=120, module__Nh3=100, optimizer__lr=0.001, optimizer__weight_decay=0 \n",
      "Network initialized\n",
      "Network initialized\n"
     ]
    },
    {
     "name": "stderr",
     "output_type": "stream",
     "text": [
      "[Parallel(n_jobs=1)]: Done   3 out of   3 | elapsed:  5.0min remaining:    0.0s\n"
     ]
    },
    {
     "name": "stdout",
     "output_type": "stream",
     "text": [
      "[CV]  max_epochs=5000, module__Nh1=100, module__Nh2=120, module__Nh3=100, optimizer__lr=0.001, optimizer__weight_decay=0, score=-2203.161, total=  30.7s\n",
      "[CV] max_epochs=5000, module__Nh1=100, module__Nh2=120, module__Nh3=100, optimizer__lr=0.001, optimizer__weight_decay=0 \n",
      "Network initialized\n",
      "Network initialized\n"
     ]
    },
    {
     "name": "stderr",
     "output_type": "stream",
     "text": [
      "[Parallel(n_jobs=1)]: Done   4 out of   4 | elapsed:  5.5min remaining:    0.0s\n"
     ]
    },
    {
     "name": "stdout",
     "output_type": "stream",
     "text": [
      "[CV]  max_epochs=5000, module__Nh1=100, module__Nh2=120, module__Nh3=100, optimizer__lr=0.001, optimizer__weight_decay=0, score=-0.565, total= 1.1min\n",
      "[CV] max_epochs=5000, module__Nh1=100, module__Nh2=120, module__Nh3=100, optimizer__lr=0.001, optimizer__weight_decay=0 \n",
      "Network initialized\n",
      "Network initialized\n"
     ]
    },
    {
     "name": "stderr",
     "output_type": "stream",
     "text": [
      "[Parallel(n_jobs=1)]: Done   5 out of   5 | elapsed:  6.6min remaining:    0.0s\n"
     ]
    },
    {
     "name": "stdout",
     "output_type": "stream",
     "text": [
      "[CV]  max_epochs=5000, module__Nh1=100, module__Nh2=120, module__Nh3=100, optimizer__lr=0.001, optimizer__weight_decay=0, score=-7.535, total= 2.0min\n",
      "[CV] max_epochs=5000, module__Nh1=100, module__Nh2=120, module__Nh3=100, optimizer__lr=0.0001, optimizer__weight_decay=0.0001 \n",
      "Network initialized\n",
      "Network initialized\n"
     ]
    },
    {
     "name": "stderr",
     "output_type": "stream",
     "text": [
      "[Parallel(n_jobs=1)]: Done   6 out of   6 | elapsed:  8.6min remaining:    0.0s\n"
     ]
    },
    {
     "name": "stdout",
     "output_type": "stream",
     "text": [
      "[CV]  max_epochs=5000, module__Nh1=100, module__Nh2=120, module__Nh3=100, optimizer__lr=0.0001, optimizer__weight_decay=0.0001, score=-1200.232, total=  48.6s\n",
      "[CV] max_epochs=5000, module__Nh1=100, module__Nh2=120, module__Nh3=100, optimizer__lr=0.0001, optimizer__weight_decay=0.0001 \n",
      "Network initialized\n",
      "Network initialized\n"
     ]
    },
    {
     "name": "stderr",
     "output_type": "stream",
     "text": [
      "[Parallel(n_jobs=1)]: Done   7 out of   7 | elapsed:  9.4min remaining:    0.0s\n"
     ]
    },
    {
     "name": "stdout",
     "output_type": "stream",
     "text": [
      "[CV]  max_epochs=5000, module__Nh1=100, module__Nh2=120, module__Nh3=100, optimizer__lr=0.0001, optimizer__weight_decay=0.0001, score=-0.870, total= 3.3min\n",
      "[CV] max_epochs=5000, module__Nh1=100, module__Nh2=120, module__Nh3=100, optimizer__lr=0.0001, optimizer__weight_decay=0.0001 \n",
      "Network initialized\n",
      "Network initialized\n"
     ]
    },
    {
     "name": "stderr",
     "output_type": "stream",
     "text": [
      "[Parallel(n_jobs=1)]: Done   8 out of   8 | elapsed: 12.7min remaining:    0.0s\n"
     ]
    },
    {
     "name": "stdout",
     "output_type": "stream",
     "text": [
      "[CV]  max_epochs=5000, module__Nh1=100, module__Nh2=120, module__Nh3=100, optimizer__lr=0.0001, optimizer__weight_decay=0.0001, score=-6.147, total= 3.3min\n",
      "[CV] max_epochs=5000, module__Nh1=100, module__Nh2=120, module__Nh3=100, optimizer__lr=0.0001, optimizer__weight_decay=0 \n",
      "Network initialized\n",
      "Network initialized\n"
     ]
    },
    {
     "name": "stderr",
     "output_type": "stream",
     "text": [
      "[Parallel(n_jobs=1)]: Done   9 out of   9 | elapsed: 16.1min remaining:    0.0s\n"
     ]
    },
    {
     "name": "stdout",
     "output_type": "stream",
     "text": [
      "[CV]  max_epochs=5000, module__Nh1=100, module__Nh2=120, module__Nh3=100, optimizer__lr=0.0001, optimizer__weight_decay=0, score=-1074.783, total=  48.5s\n",
      "[CV] max_epochs=5000, module__Nh1=100, module__Nh2=120, module__Nh3=100, optimizer__lr=0.0001, optimizer__weight_decay=0 \n",
      "Network initialized\n",
      "Network initialized\n",
      "[CV]  max_epochs=5000, module__Nh1=100, module__Nh2=120, module__Nh3=100, optimizer__lr=0.0001, optimizer__weight_decay=0, score=-0.871, total= 3.3min\n",
      "[CV] max_epochs=5000, module__Nh1=100, module__Nh2=120, module__Nh3=100, optimizer__lr=0.0001, optimizer__weight_decay=0 \n",
      "Network initialized\n",
      "Network initialized\n",
      "[CV]  max_epochs=5000, module__Nh1=100, module__Nh2=120, module__Nh3=100, optimizer__lr=0.0001, optimizer__weight_decay=0, score=-6.287, total= 3.3min\n",
      "[CV] max_epochs=7000, module__Nh1=100, module__Nh2=120, module__Nh3=100, optimizer__lr=0.001, optimizer__weight_decay=0.0001 \n",
      "Network initialized\n",
      "Network initialized\n",
      "[CV]  max_epochs=7000, module__Nh1=100, module__Nh2=120, module__Nh3=100, optimizer__lr=0.001, optimizer__weight_decay=0.0001, score=-1842.809, total=  31.3s\n",
      "[CV] max_epochs=7000, module__Nh1=100, module__Nh2=120, module__Nh3=100, optimizer__lr=0.001, optimizer__weight_decay=0.0001 \n",
      "Network initialized\n",
      "Network initialized\n",
      "[CV]  max_epochs=7000, module__Nh1=100, module__Nh2=120, module__Nh3=100, optimizer__lr=0.001, optimizer__weight_decay=0.0001, score=-0.592, total= 1.1min\n",
      "[CV] max_epochs=7000, module__Nh1=100, module__Nh2=120, module__Nh3=100, optimizer__lr=0.001, optimizer__weight_decay=0.0001 \n",
      "Network initialized\n",
      "Network initialized\n",
      "[CV]  max_epochs=7000, module__Nh1=100, module__Nh2=120, module__Nh3=100, optimizer__lr=0.001, optimizer__weight_decay=0.0001, score=-2.612, total= 3.7min\n",
      "[CV] max_epochs=7000, module__Nh1=100, module__Nh2=120, module__Nh3=100, optimizer__lr=0.001, optimizer__weight_decay=0 \n",
      "Network initialized\n",
      "Network initialized\n",
      "[CV]  max_epochs=7000, module__Nh1=100, module__Nh2=120, module__Nh3=100, optimizer__lr=0.001, optimizer__weight_decay=0, score=-2203.161, total=  30.9s\n",
      "[CV] max_epochs=7000, module__Nh1=100, module__Nh2=120, module__Nh3=100, optimizer__lr=0.001, optimizer__weight_decay=0 \n",
      "Network initialized\n",
      "Network initialized\n",
      "[CV]  max_epochs=7000, module__Nh1=100, module__Nh2=120, module__Nh3=100, optimizer__lr=0.001, optimizer__weight_decay=0, score=-0.565, total= 1.1min\n",
      "[CV] max_epochs=7000, module__Nh1=100, module__Nh2=120, module__Nh3=100, optimizer__lr=0.001, optimizer__weight_decay=0 \n",
      "Network initialized\n",
      "Network initialized\n",
      "[CV]  max_epochs=7000, module__Nh1=100, module__Nh2=120, module__Nh3=100, optimizer__lr=0.001, optimizer__weight_decay=0, score=-7.535, total= 2.0min\n",
      "[CV] max_epochs=7000, module__Nh1=100, module__Nh2=120, module__Nh3=100, optimizer__lr=0.0001, optimizer__weight_decay=0.0001 \n",
      "Network initialized\n",
      "Network initialized\n",
      "[CV]  max_epochs=7000, module__Nh1=100, module__Nh2=120, module__Nh3=100, optimizer__lr=0.0001, optimizer__weight_decay=0.0001, score=-1200.232, total=  48.1s\n",
      "[CV] max_epochs=7000, module__Nh1=100, module__Nh2=120, module__Nh3=100, optimizer__lr=0.0001, optimizer__weight_decay=0.0001 \n",
      "Network initialized\n",
      "Network initialized\n",
      "[CV]  max_epochs=7000, module__Nh1=100, module__Nh2=120, module__Nh3=100, optimizer__lr=0.0001, optimizer__weight_decay=0.0001, score=-1.219, total= 6.5min\n",
      "[CV] max_epochs=7000, module__Nh1=100, module__Nh2=120, module__Nh3=100, optimizer__lr=0.0001, optimizer__weight_decay=0.0001 \n",
      "Network initialized\n",
      "Network initialized\n",
      "[CV]  max_epochs=7000, module__Nh1=100, module__Nh2=120, module__Nh3=100, optimizer__lr=0.0001, optimizer__weight_decay=0.0001, score=-6.097, total= 6.5min\n",
      "[CV] max_epochs=7000, module__Nh1=100, module__Nh2=120, module__Nh3=100, optimizer__lr=0.0001, optimizer__weight_decay=0 \n",
      "Network initialized\n",
      "Network initialized\n",
      "[CV]  max_epochs=7000, module__Nh1=100, module__Nh2=120, module__Nh3=100, optimizer__lr=0.0001, optimizer__weight_decay=0, score=-1074.783, total=  47.4s\n",
      "[CV] max_epochs=7000, module__Nh1=100, module__Nh2=120, module__Nh3=100, optimizer__lr=0.0001, optimizer__weight_decay=0 \n",
      "Network initialized\n",
      "Network initialized\n",
      "[CV]  max_epochs=7000, module__Nh1=100, module__Nh2=120, module__Nh3=100, optimizer__lr=0.0001, optimizer__weight_decay=0, score=-1.156, total= 6.5min\n",
      "[CV] max_epochs=7000, module__Nh1=100, module__Nh2=120, module__Nh3=100, optimizer__lr=0.0001, optimizer__weight_decay=0 \n",
      "Network initialized\n",
      "Network initialized\n",
      "[CV]  max_epochs=7000, module__Nh1=100, module__Nh2=120, module__Nh3=100, optimizer__lr=0.0001, optimizer__weight_decay=0, score=-6.931, total= 6.5min\n",
      "[CV] max_epochs=10000, module__Nh1=100, module__Nh2=120, module__Nh3=100, optimizer__lr=0.001, optimizer__weight_decay=0.0001 \n",
      "Network initialized\n",
      "Network initialized\n",
      "[CV]  max_epochs=10000, module__Nh1=100, module__Nh2=120, module__Nh3=100, optimizer__lr=0.001, optimizer__weight_decay=0.0001, score=-1842.809, total=  31.3s\n",
      "[CV] max_epochs=10000, module__Nh1=100, module__Nh2=120, module__Nh3=100, optimizer__lr=0.001, optimizer__weight_decay=0.0001 \n",
      "Network initialized\n",
      "Network initialized\n",
      "[CV]  max_epochs=10000, module__Nh1=100, module__Nh2=120, module__Nh3=100, optimizer__lr=0.001, optimizer__weight_decay=0.0001, score=-0.592, total= 1.1min\n",
      "[CV] max_epochs=10000, module__Nh1=100, module__Nh2=120, module__Nh3=100, optimizer__lr=0.001, optimizer__weight_decay=0.0001 \n",
      "Network initialized\n",
      "Network initialized\n",
      "[CV]  max_epochs=10000, module__Nh1=100, module__Nh2=120, module__Nh3=100, optimizer__lr=0.001, optimizer__weight_decay=0.0001, score=-2.612, total= 3.6min\n",
      "[CV] max_epochs=10000, module__Nh1=100, module__Nh2=120, module__Nh3=100, optimizer__lr=0.001, optimizer__weight_decay=0 \n",
      "Network initialized\n",
      "Network initialized\n",
      "[CV]  max_epochs=10000, module__Nh1=100, module__Nh2=120, module__Nh3=100, optimizer__lr=0.001, optimizer__weight_decay=0, score=-2203.161, total=  30.8s\n",
      "[CV] max_epochs=10000, module__Nh1=100, module__Nh2=120, module__Nh3=100, optimizer__lr=0.001, optimizer__weight_decay=0 \n",
      "Network initialized\n",
      "Network initialized\n",
      "[CV]  max_epochs=10000, module__Nh1=100, module__Nh2=120, module__Nh3=100, optimizer__lr=0.001, optimizer__weight_decay=0, score=-0.565, total= 1.1min\n",
      "[CV] max_epochs=10000, module__Nh1=100, module__Nh2=120, module__Nh3=100, optimizer__lr=0.001, optimizer__weight_decay=0 \n",
      "Network initialized\n",
      "Network initialized\n",
      "[CV]  max_epochs=10000, module__Nh1=100, module__Nh2=120, module__Nh3=100, optimizer__lr=0.001, optimizer__weight_decay=0, score=-7.535, total= 1.9min\n",
      "[CV] max_epochs=10000, module__Nh1=100, module__Nh2=120, module__Nh3=100, optimizer__lr=0.0001, optimizer__weight_decay=0.0001 \n",
      "Network initialized\n",
      "Network initialized\n",
      "[CV]  max_epochs=10000, module__Nh1=100, module__Nh2=120, module__Nh3=100, optimizer__lr=0.0001, optimizer__weight_decay=0.0001, score=-1200.232, total=  47.0s\n",
      "[CV] max_epochs=10000, module__Nh1=100, module__Nh2=120, module__Nh3=100, optimizer__lr=0.0001, optimizer__weight_decay=0.0001 \n",
      "Network initialized\n",
      "Network initialized\n",
      "[CV]  max_epochs=10000, module__Nh1=100, module__Nh2=120, module__Nh3=100, optimizer__lr=0.0001, optimizer__weight_decay=0.0001, score=-1.631, total=13.7min\n",
      "[CV] max_epochs=10000, module__Nh1=100, module__Nh2=120, module__Nh3=100, optimizer__lr=0.0001, optimizer__weight_decay=0.0001 \n",
      "Network initialized\n",
      "Network initialized\n",
      "[CV]  max_epochs=10000, module__Nh1=100, module__Nh2=120, module__Nh3=100, optimizer__lr=0.0001, optimizer__weight_decay=0.0001, score=-5.953, total=13.9min\n",
      "[CV] max_epochs=10000, module__Nh1=100, module__Nh2=120, module__Nh3=100, optimizer__lr=0.0001, optimizer__weight_decay=0 \n",
      "Network initialized\n",
      "Network initialized\n",
      "[CV]  max_epochs=10000, module__Nh1=100, module__Nh2=120, module__Nh3=100, optimizer__lr=0.0001, optimizer__weight_decay=0, score=-1074.783, total=  47.9s\n",
      "[CV] max_epochs=10000, module__Nh1=100, module__Nh2=120, module__Nh3=100, optimizer__lr=0.0001, optimizer__weight_decay=0 \n",
      "Network initialized\n",
      "Network initialized\n",
      "[CV]  max_epochs=10000, module__Nh1=100, module__Nh2=120, module__Nh3=100, optimizer__lr=0.0001, optimizer__weight_decay=0, score=-1.171, total=14.2min\n",
      "[CV] max_epochs=10000, module__Nh1=100, module__Nh2=120, module__Nh3=100, optimizer__lr=0.0001, optimizer__weight_decay=0 \n",
      "Network initialized\n",
      "Network initialized\n",
      "[CV]  max_epochs=10000, module__Nh1=100, module__Nh2=120, module__Nh3=100, optimizer__lr=0.0001, optimizer__weight_decay=0, score=-6.165, total=11.7min\n",
      "Network initialized\n",
      "Network initialized\n"
     ]
    },
    {
     "name": "stderr",
     "output_type": "stream",
     "text": [
      "[Parallel(n_jobs=1)]: Done  36 out of  36 | elapsed: 123.7min finished\n"
     ]
    },
    {
     "name": "stdout",
     "output_type": "stream",
     "text": [
      "-360.6472358306249 {'max_epochs': 5000, 'module__Nh1': 100, 'module__Nh2': 120, 'module__Nh3': 100, 'optimizer__lr': 0.0001, 'optimizer__weight_decay': 0}\n"
     ]
    }
   ],
   "source": [
    "from sklearn.model_selection import GridSearchCV\n",
    "\n",
    "params = {\n",
    "    'module__Nh1': [100],\n",
    "    'module__Nh2': [120],\n",
    "    'module__Nh3': [100],\n",
    "    'max_epochs': [5000,7000,10000],\n",
    "    'optimizer__lr':[0.001,0.0001],\n",
    "    'optimizer__weight_decay':[1e-4,0] #L2 norm,\n",
    "}\n",
    "\n",
    "gs = GridSearchCV(net, params, refit=True, cv=3, scoring=\"neg_mean_squared_error\",verbose=10)\n",
    "##https://scikit-learn.org/stable/modules/generated/sklearn.model_selection.GridSearchCV.html\n",
    "\n",
    "\n",
    "gs.fit(X_train_dataset,Y_train_dataset)\n",
    "\n",
    "print(gs.best_score_, gs.best_params_)"
   ]
  },
  {
   "cell_type": "code",
   "execution_count": 11,
   "metadata": {
    "id": "hR6fXvuP4E1F"
   },
   "outputs": [],
   "source": [
    "net=gs.best_estimator_"
   ]
  },
  {
   "cell_type": "code",
   "execution_count": 12,
   "metadata": {
    "colab": {
     "base_uri": "https://localhost:8080/"
    },
    "id": "Ieh0pyqu4E1F",
    "outputId": "cbb90f64-b8a8-4504-90e5-bc850e43dce2"
   },
   "outputs": [
    {
     "name": "stdout",
     "output_type": "stream",
     "text": [
      "Network initialized\n"
     ]
    },
    {
     "data": {
      "text/plain": [
       "<class 'skorch.regressor.NeuralNetRegressor'>[initialized](\n",
       "  module_=Reg(\n",
       "    (fc1): Linear(in_features=1, out_features=100, bias=True)\n",
       "    (fc2): Linear(in_features=100, out_features=120, bias=True)\n",
       "    (fc3): Linear(in_features=120, out_features=100, bias=True)\n",
       "    (out): Linear(in_features=100, out_features=1, bias=True)\n",
       "    (act1): Sigmoid()\n",
       "    (act2): ReLU()\n",
       "  ),\n",
       ")"
      ]
     },
     "execution_count": 12,
     "metadata": {
      "tags": []
     },
     "output_type": "execute_result"
    }
   ],
   "source": [
    "net.fit(X_train_dataset, Y_train_dataset)"
   ]
  },
  {
   "cell_type": "code",
   "execution_count": 13,
   "metadata": {
    "colab": {
     "base_uri": "https://localhost:8080/",
     "height": 497
    },
    "id": "6oJmdO2e4E1G",
    "outputId": "2adcd144-af72-4e00-9140-d5c16c6feb74"
   },
   "outputs": [
    {
     "data": {
      "image/png": "[encoded data removed]",
      "text/plain": [
       "<Figure size 864x576 with 1 Axes>"
      ]
     },
     "metadata": {
      "needs_background": "light",
      "tags": []
     },
     "output_type": "display_data"
    }
   ],
   "source": [
    "# Plot losses\n",
    "plt.figure(figsize=(12,8))\n",
    "plt.semilogy(net.history[:, 'train_loss'], label='Train loss')\n",
    "plt.semilogy(net.history[:, 'valid_loss'], label='Valid loss')\n",
    "\n",
    "plt.xlabel('Epoch')\n",
    "plt.ylabel('Loss')\n",
    "plt.grid()\n",
    "plt.legend()\n",
    "plt.savefig(\"best_loss_graphs\", dpi=400)\n",
    "plt.show()\n"
   ]
  },
  {
   "cell_type": "code",
   "execution_count": 14,
   "metadata": {
    "colab": {
     "base_uri": "https://localhost:8080/",
     "height": 483
    },
    "id": "7exw7yFMWqsu",
    "outputId": "ead03b1a-6480-41a5-c60a-e2575e2a5256"
   },
   "outputs": [
    {
     "data": {
      "image/png": "[encoded data removed]",
      "text/plain": [
       "<Figure size 864x576 with 1 Axes>"
      ]
     },
     "metadata": {
      "needs_background": "light",
      "tags": []
     },
     "output_type": "display_data"
    }
   ],
   "source": [
    "x=torch.tensor(np.linspace(-6,+6,100)).float().reshape(100,1)\n",
    "\n",
    "#function approximeted\n",
    "f=net.predict(x)\n",
    "\n",
    "x=x.detach().cpu().numpy()\n",
    "\n",
    "plt.figure(figsize=(12,8))\n",
    "plt.plot(x,f,color=\"crimson\")\n",
    "plt.scatter(train_df[:]['input'],train_df[:]['label'],label=\"Train points\")\n",
    "plt.scatter(test_df[:]['input'],test_df[:]['label'],label=\"Test points\")\n",
    "plt.legend(loc='upper left', fontsize=15)\n",
    "plt.savefig(\"best_function_predicted\", dpi=400)\n",
    "plt.show()\n"
   ]
  },
  {
   "cell_type": "code",
   "execution_count": 15,
   "metadata": {
    "colab": {
     "base_uri": "https://localhost:8080/"
    },
    "id": "opNifxyg4E1H",
    "outputId": "efc66912-d62f-43c2-d8ed-d8c7145f2e43"
   },
   "outputs": [
    {
     "name": "stdout",
     "output_type": "stream",
     "text": [
      "Train Loss:\t 0.133\n",
      "Val Loss:\t 0.563\n",
      "Test Loss:\t 0.123\n"
     ]
    }
   ],
   "source": [
    "#SINTESI\n",
    "\n",
    "#Train Loss\n",
    "train_loss=net.history[:, 'train_loss'][-1]\n",
    "\n",
    "#Val loss\n",
    "val_loss=net.history[:, 'valid_loss'][-1]\n",
    "\n",
    "#Test loss\n",
    "y_pred = net.predict(X_test_dataset)\n",
    "y_pred = torch.from_numpy(y_pred).float()\n",
    "test_loss = loss_function(y_pred,Y_test_dataset)\n",
    "\n",
    "print(\"Train Loss:\\t\",round(train_loss,3))\n",
    "print(\"Val Loss:\\t\",round(val_loss,3))\n",
    "print(\"Test Loss:\\t\",round(float(test_loss),3))"
   ]
  },
  {
   "cell_type": "markdown",
   "metadata": {
    "id": "-OWOa8Zs4E1H"
   },
   "source": [
    "## Network analysis"
   ]
  },
  {
   "cell_type": "code",
   "execution_count": 16,
   "metadata": {
    "id": "k8wV6A_V4E1I"
   },
   "outputs": [],
   "source": [
    "#Access network parameters\n",
    "my_best_net = net.module_\n",
    "\n",
    "#First hidden Layer\n",
    "h1_w = my_best_net.fc1.weight.data.cpu().numpy()\n",
    "h1_b = my_best_net.fc1.bias.data.cpu().numpy()\n",
    "\n",
    "#Second hidden Layer\n",
    "h2_w = my_best_net.fc2.weight.data.cpu().numpy()\n",
    "h2_b = my_best_net.fc2.bias.data.cpu().numpy()\n",
    "\n",
    "#Third hidden Layer\n",
    "h3_w = my_best_net.fc3.weight.data.cpu().numpy()\n",
    "h3_b = my_best_net.fc3.bias.data.cpu().numpy()\n",
    "\n",
    "# Output layer\n",
    "out_w = my_best_net.out.weight.data.cpu().numpy()\n",
    "out_b = my_best_net.out.bias.data.cpu().numpy()"
   ]
  },
  {
   "cell_type": "code",
   "execution_count": 17,
   "metadata": {
    "colab": {
     "base_uri": "https://localhost:8080/",
     "height": 585
    },
    "id": "EkQ8QTEL4E1I",
    "outputId": "b4f72cb2-91e6-4b63-9b63-4f0a32ed70f8"
   },
   "outputs": [
    {
     "data": {
      "image/png": "[encoded data removed]",
      "text/plain": [
       "<Figure size 864x576 with 4 Axes>"
      ]
     },
     "metadata": {
      "needs_background": "light",
      "tags": []
     },
     "output_type": "display_data"
    }
   ],
   "source": [
    "# Weights histogram\n",
    "fig, axs = plt.subplots(4, 1, figsize=(12,8))\n",
    "axs[0].hist(h1_w.flatten(), 50)\n",
    "axs[0].set_title('First Hidden layer weights')\n",
    "axs[1].hist(h2_w.flatten(), 50)\n",
    "axs[1].set_title('Second Hidden layer weights')\n",
    "axs[2].hist(h3_w.flatten(), 50)\n",
    "axs[2].set_title('Third Hidden layer weights')\n",
    "axs[3].hist(out_w.flatten(), 50)\n",
    "axs[3].set_title('Output layer weights')\n",
    "[ax.grid() for ax in axs]\n",
    "plt.tight_layout()\n",
    "plt.savefig(\"_Weights-histogram\", dpi=400)\n",
    "plt.show()"
   ]
  },
  {
   "cell_type": "code",
   "execution_count": 18,
   "metadata": {
    "colab": {
     "base_uri": "https://localhost:8080/",
     "height": 441
    },
    "id": "W8siN8HY4E1I",
    "outputId": "424244e0-78d3-4ff0-d668-f4c84a788806"
   },
   "outputs": [
    {
     "data": {
      "image/png": "[encoded data removed]",
      "text/plain": [
       "<Figure size 864x432 with 3 Axes>"
      ]
     },
     "metadata": {
      "needs_background": "light",
      "tags": []
     },
     "output_type": "display_data"
    }
   ],
   "source": [
    "def get_activation(layer, input, output):\n",
    "    global activation\n",
    "    activation = torch.sigmoid(output)\n",
    "    \n",
    "### Register hook\n",
    "net=my_best_net\n",
    "hook_handle = net.fc3.register_forward_hook(get_activation)\n",
    "\n",
    "### Analyze activations\n",
    "net = net.to(device)\n",
    "net.eval()\n",
    "with torch.no_grad():\n",
    "    x1 = torch.tensor([0.1]).float().to(device)\n",
    "    y1 = net(x1)\n",
    "    z1 = activation\n",
    "    x2 = torch.tensor([0.9]).float().to(device)\n",
    "    y2 = net(x2)\n",
    "    z2 = activation\n",
    "    x3 = torch.tensor([2.5]).float().to(device)\n",
    "    y3 = net(x3)\n",
    "    z3 = activation\n",
    "\n",
    "### Remove hook\n",
    "hook_handle.remove()\n",
    "\n",
    "### Plot activations\n",
    "fig, axs = plt.subplots(3, 1, figsize=(12,6))\n",
    "axs[0].stem(z1.cpu().numpy(), use_line_collection=True)\n",
    "axs[0].set_title('Last hidden layer activations for input x=%.2f' % x1)\n",
    "axs[1].stem(z2.cpu().numpy(), use_line_collection=True)\n",
    "axs[1].set_title('Last hidden layer activations for input x=%.2f' % x2)\n",
    "axs[2].stem(z3.cpu().numpy(), use_line_collection=True)\n",
    "axs[2].set_title('Last hidden layer activations for input x=%.2f' % x3)\n",
    "plt.tight_layout()\n",
    "plt.savefig(\"Activations\", dpi=400)\n",
    "plt.show()"
   ]
  }
 ],
 "metadata": {
  "accelerator": "GPU",
  "colab": {
   "collapsed_sections": [
    "AgHJFDwYvgHg"
   ],
   "name": "edo_homework_1_regression.ipynb",
   "provenance": [],
   "toc_visible": true
  },
  "kernelspec": {
   "display_name": "Python 3",
   "language": "python",
   "name": "python3"
  },
  "language_info": {
   "codemirror_mode": {
    "name": "ipython",
    "version": 3
   },
   "file_extension": ".py",
   "mimetype": "text/x-python",
   "name": "python",
   "nbconvert_exporter": "python",
   "pygments_lexer": "ipython3",
   "version": "3.7.10"
  }
 },
 "nbformat": 4,
 "nbformat_minor": 1
}
